{
 "cells": [
  {
   "cell_type": "code",
   "execution_count": 17,
   "metadata": {},
   "outputs": [],
   "source": [
    "import numpy as np\n",
    "import matplotlib.pyplot as plt\n",
    "import pandas as pd\n",
    "import os"
   ]
  },
  {
   "cell_type": "code",
   "execution_count": 18,
   "metadata": {
    "scrolled": true
   },
   "outputs": [
    {
     "name": "stdout",
     "output_type": "stream",
     "text": [
      "['cerebellum', 'forebrain', 'heart', 'hindbrain', 'intestine', 'kidney', 'liver', 'lung', 'midbrain', 'stomach', 'thymus']\n"
     ]
    }
   ],
   "source": [
    "samples = set({'forebrain', 'heart', 'midbrain', 'lung', 'intestine', 'stomach', 'thymus', 'cerebellum', 'kidney', 'hindbrain', 'liver'})\n",
    "print(sorted(samples))"
   ]
  },
  {
   "cell_type": "code",
   "execution_count": 19,
   "metadata": {},
   "outputs": [
    {
     "name": "stdout",
     "output_type": "stream",
     "text": [
      "total positives for cerebellum is: 18620\n",
      "total negatives for cerebellum is: 153788\n",
      "total positives for forebrain is: 45009\n",
      "total negatives for forebrain is: 1056447\n",
      "total positives for heart is: 71510\n",
      "total negatives for heart is: 1145678\n",
      "total positives for hindbrain is: 50508\n",
      "total negatives for hindbrain is: 1248202\n",
      "total positives for intestine is: 32494\n",
      "total negatives for intestine is: 314603\n",
      "total positives for kidney is: 79074\n",
      "total negatives for kidney is: 688653\n",
      "total positives for liver is: 117242\n",
      "total negatives for liver is: 1557088\n",
      "total positives for lung is: 126933\n",
      "total negatives for lung is: 1010006\n",
      "total positives for midbrain is: 52927\n",
      "total negatives for midbrain is: 1604121\n",
      "total positives for stomach is: 37654\n",
      "total negatives for stomach is: 232830\n",
      "total positives for thymus is: 16315\n",
      "total negatives for thymus is: 452666\n"
     ]
    }
   ],
   "source": [
    "#######################################################\n",
    "# (*) Positive sequences are CTCF ChIP-seq regions in #\n",
    "#     which the peak max overlaps an open region      #\n",
    "# (*) Negative sequences are open regions that do not #\n",
    "#     overlap a CTCF ChIP-seq region                  #\n",
    "#######################################################\n",
    "\n",
    "# Initialize\n",
    "dfs = {}\n",
    "\n",
    "for sample in sorted(samples):\n",
    "\n",
    "    # Initialize\n",
    "    data = []\n",
    "    scores = []\n",
    "    labels = []\n",
    "\n",
    "    # Load positives\n",
    "    pos = np.loadtxt(\"./Predictions/mm10/pos_seqs.%s.txt\" % sample)\n",
    "    print(\"total positives for %s is: %s\" % (sample, len(pos)))\n",
    "    scores.extend(pos.tolist())\n",
    "    labels.extend(np.ones(len(pos)).tolist())\n",
    "\n",
    "    # Load negatives\n",
    "    neg = np.loadtxt(\"./Predictions/mm10/neg_seqs.%s.txt\" % sample)\n",
    "    print(\"total negatives for %s is: %s\" % (sample, len(neg)))\n",
    "    scores.extend(neg.tolist())\n",
    "    labels.extend(np.zeros(len(neg)).tolist())\n",
    "\n",
    "    # Create data frame\n",
    "    dfs.setdefault(sample, pd.DataFrame(zip(scores, labels), columns=[\"Scores\", \"Labels\"]))"
   ]
  },
  {
   "cell_type": "code",
   "execution_count": 20,
   "metadata": {},
   "outputs": [
    {
     "name": "stdout",
     "output_type": "stream",
     "text": [
      "           Scores  Labels\n",
      "0        0.999997     1.0\n",
      "1        0.999922     1.0\n",
      "2        0.998851     1.0\n",
      "3        0.999981     1.0\n",
      "4        0.999994     1.0\n",
      "...           ...     ...\n",
      "1217183  0.150482     0.0\n",
      "1217184  0.134614     0.0\n",
      "1217185  0.149708     0.0\n",
      "1217186  0.129963     0.0\n",
      "1217187  0.027431     0.0\n",
      "\n",
      "[1217188 rows x 2 columns]\n"
     ]
    }
   ],
   "source": [
    "# i.e. Sanity check\n",
    "print(dfs[\"heart\"])"
   ]
  },
  {
   "cell_type": "code",
   "execution_count": 76,
   "metadata": {
    "scrolled": true
   },
   "outputs": [
    {
     "data": {
      "image/png": "[encoded data removed]",
      "text/plain": [
       "<Figure size 540x720 with 12 Axes>"
      ]
     },
     "metadata": {
      "needs_background": "light"
     },
     "output_type": "display_data"
    }
   ],
   "source": [
    "# Initialize\n",
    "subplt = 0\n",
    "colors = [\"#4477AA\", \"#CC6677\"]\n",
    "labels = [\"CTCF-bound\", \"Unbound\"]\n",
    "# Final submission | Naturewww.nature.com › for authors\n",
    "# For guidance, Nature's standard figure sizes are 89 mm wide (single column) and 183 mm wide (double column).\n",
    "# The full depth of a Nature page is 247 mm.\n",
    "figsize = (7.20472, )\n",
    "fig, axes = plt.subplots(nrows=4, ncols=3, figsize=(7.5, 10))\n",
    "font_main = dict(size=12)\n",
    "font_title = dict(size=12, color=\"black\", weight=\"normal\", verticalalignment=\"bottom\")\n",
    "boxprops = dict(linewidth=1, color=\"black\")\n",
    "capprops = dict(linewidth=1, color=\"black\")\n",
    "flierprops = dict(marker=\"o\", markerfacecolor=\"black\", markersize=1, linestyle=\"none\")\n",
    "medianprops = dict(linewidth=1, color=\"black\")\n",
    "whiskerprops = dict(linestyle=\"-\", linewidth=1, color=\"black\")\n",
    "\n",
    "# Last ax is unnecessary\n",
    "axes[-1, -1].axis(\"off\")\n",
    "\n",
    "# For each sample\n",
    "for sample in sorted(dfs):\n",
    "\n",
    "    # Get current ax\n",
    "    subplt += 1\n",
    "    row = int((subplt-1) / 3)\n",
    "    col = (subplt-1) - (3 * row)\n",
    "    ax = axes[row, col]\n",
    "\n",
    "    # Get data\n",
    "    df = dfs[sample]\n",
    "    data = np.array(df[df.Labels == 1.].Scores.tolist())\n",
    "    data = np.append(data, df[df.Labels == 0.].Scores.tolist())\n",
    "    \n",
    "    # Boxplot\n",
    "    boxes = ax.boxplot(data, labels=labels, patch_artist=True, showfliers=False, boxprops=boxprops, capprops=capprops,\n",
    "        flierprops=None, medianprops=medianprops, whiskerprops=whiskerprops)\n",
    "\n",
    "    # Color boxes\n",
    "    for patch, color in zip(boxes[\"boxes\"], colors):\n",
    "        patch.set_facecolor(color)\n",
    "\n",
    "    # Set title\n",
    "    ax.set_title(sample, **font_title)\n",
    "    ax.title.set_position([.5, .975])\n",
    "\n",
    "    # Set y limit & ticks\n",
    "    ax.set(ylim=(0., 1.))\n",
    "    ax.set_yticks([0., .25, .5, .75, 1.])\n",
    "\n",
    "    # Set x/y tick labels\n",
    "    if subplt < 9:\n",
    "        ax.set_xticklabels([\"\", \"\"])\n",
    "    if col == 0:\n",
    "        ax.set_yticklabels([\"0\", \"\", \"0.5\", \"\", \"1\"])\n",
    "        ax.set_ylabel(\"DragoNN\", **font_main)\n",
    "    else:\n",
    "        ax.set_yticklabels([\"\", \"\", \"\", \"\", \"\"])\n",
    "    ax.tick_params(direction=\"in\")\n",
    "    for tick in ax.xaxis.get_major_ticks():\n",
    "        tick.label.set_fontsize(10) \n",
    "    for tick in ax.yaxis.get_major_ticks():\n",
    "        tick.label.set_fontsize(10) \n",
    "\n",
    "    # Remove top & right spines\n",
    "    ax.spines[\"top\"].set_visible(False)\n",
    "    ax.spines[\"right\"].set_visible(False)\n",
    "\n",
    "    # Set aspect ratio\n",
    "    x0, x1 = ax.get_xlim()\n",
    "    y0, y1 = ax.get_ylim()\n",
    "    ax.set_aspect((x1 - x0) / (y1 - y0))"
   ]
  },
  {
   "cell_type": "code",
   "execution_count": null,
   "metadata": {},
   "outputs": [],
   "source": []
  }
 ],
 "metadata": {
  "kernelspec": {
   "display_name": "Python 3",
   "language": "python",
   "name": "python3"
  },
  "language_info": {
   "codemirror_mode": {
    "name": "ipython",
    "version": 3
   },
   "file_extension": ".py",
   "mimetype": "text/x-python",
   "name": "python",
   "nbconvert_exporter": "python",
   "pygments_lexer": "ipython3",
   "version": "3.8.5"
  }
 },
 "nbformat": 4,
 "nbformat_minor": 4
}
