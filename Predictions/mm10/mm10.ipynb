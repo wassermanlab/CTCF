{
 "cells": [
  {
   "cell_type": "code",
   "execution_count": 2,
   "metadata": {},
   "outputs": [],
   "source": [
    "import numpy as np\n",
    "import matplotlib.pyplot as plt\n",
    "import pandas as pd\n",
    "import os"
   ]
  },
  {
   "cell_type": "code",
   "execution_count": 3,
   "metadata": {
    "scrolled": true
   },
   "outputs": [
    {
     "name": "stdout",
     "output_type": "stream",
     "text": [
      "['cerebellum', 'forebrain', 'heart', 'hindbrain', 'intestine', 'kidney', 'liver', 'lung', 'midbrain', 'stomach', 'thymus']\n"
     ]
    }
   ],
   "source": [
    "samples = set(\n",
    "    [\n",
    "        \"cerebellum\",\n",
    "        \"forebrain\",\n",
    "        \"heart\",\n",
    "        \"hindbrain\",\n",
    "        \"intestine\",\n",
    "        \"kidney\",\n",
    "        \"liver\",\n",
    "        \"lung\",\n",
    "        \"midbrain\",\n",
    "        \"stomach\",\n",
    "        \"thymus\"\n",
    "    ]\n",
    ")\n",
    "print(sorted(samples))"
   ]
  },
  {
   "cell_type": "code",
   "execution_count": null,
   "metadata": {},
   "outputs": [],
   "source": [
    "# DataFrame\n",
    "df = pd.read_csv(\"./CTCF/pos_seqs.cerebellum.txt.gz\", compression=\"gzip\")\n",
    "df"
   ]
  },
  {
   "cell_type": "code",
   "execution_count": 38,
   "metadata": {},
   "outputs": [
    {
     "name": "stdout",
     "output_type": "stream",
     "text": [
      "total positives for cerebellum is: 24718\n",
      "total negatives for cerebellum is: 320500\n",
      "total positives for forebrain is: 45456\n",
      "total negatives for forebrain is: 1320357\n",
      "total positives for heart is: 71510\n",
      "total negatives for heart is: 1145678\n",
      "total positives for hindbrain is: 50508\n",
      "total negatives for hindbrain is: 1248202\n",
      "total positives for intestine is: 35313\n",
      "total negatives for intestine is: 782567\n",
      "total positives for kidney is: 79074\n",
      "total negatives for kidney is: 688653\n",
      "total positives for liver is: 125073\n",
      "total negatives for liver is: 2472554\n",
      "total positives for lung is: 126933\n",
      "total negatives for lung is: 1010006\n",
      "total positives for midbrain is: 52927\n",
      "total negatives for midbrain is: 1604121\n",
      "total positives for stomach is: 37654\n",
      "total negatives for stomach is: 232830\n",
      "total positives for thymus is: 16315\n",
      "total negatives for thymus is: 452666\n"
     ]
    }
   ],
   "source": [
    "#######################################################\n",
    "# (*) Positive sequences are CTCF ChIP-seq regions in #\n",
    "#     which the peak max overlaps an open region      #\n",
    "# (*) Negative sequences are open regions that do not #\n",
    "#     overlap a CTCF ChIP-seq region                  #\n",
    "#######################################################\n",
    "\n",
    "# Initialize\n",
    "dfs = {}\n",
    "\n",
    "for sample in sorted(samples):\n",
    "\n",
    "    # Initialize\n",
    "    data = []\n",
    "    scores = []\n",
    "    labels = []\n",
    "\n",
    "    # Load positives\n",
    "    # df = pd.read_csv(\"./CTCF-fwd/pos_seqs.%s.txt.gz\" % sample, compression=\"gzip\")\n",
    "    df = pd.read_csv(\"./CTCF/pos_seqs.%s.txt.gz\" % sample, compression=\"gzip\")\n",
    "    pos = df[[\"Fwd\", \"Rev\"]].mean(axis=1)\n",
    "    print(\"total positives for %s is: %s\" % (sample, len(pos)))\n",
    "    scores.extend(pos.tolist())\n",
    "    labels.extend(np.ones(len(pos)).tolist())\n",
    "\n",
    "    # Load negatives\n",
    "    # df = pd.read_csv(\"./CTCF-fwd/neg_seqs.%s.txt.gz\" % sample, compression=\"gzip\")\n",
    "    df = pd.read_csv(\"./CTCF/neg_seqs.%s.txt.gz\" % sample, compression=\"gzip\")\n",
    "    neg = df[[\"Fwd\", \"Rev\"]].mean(axis=1)\n",
    "    print(\"total negatives for %s is: %s\" % (sample, len(neg)))\n",
    "    scores.extend(neg.tolist())\n",
    "    labels.extend(np.zeros(len(neg)).tolist())\n",
    "\n",
    "    # Create data frame\n",
    "    dfs.setdefault(sample, pd.DataFrame(zip(scores, labels), columns=[\"Scores\", \"Labels\"]))"
   ]
  },
  {
   "cell_type": "code",
   "execution_count": 39,
   "metadata": {},
   "outputs": [
    {
     "name": "stdout",
     "output_type": "stream",
     "text": [
      "          Scores  Labels\n",
      "0       0.999999     1.0\n",
      "1       0.999962     1.0\n",
      "2       0.999203     1.0\n",
      "3       0.974826     1.0\n",
      "4       0.999911     1.0\n",
      "...          ...     ...\n",
      "345213  0.106112     0.0\n",
      "345214  0.619750     0.0\n",
      "345215  0.234424     0.0\n",
      "345216  0.172147     0.0\n",
      "345217  0.028400     0.0\n",
      "\n",
      "[345218 rows x 2 columns]\n"
     ]
    }
   ],
   "source": [
    "# i.e. Sanity check\n",
    "print(dfs[\"cerebellum\"])"
   ]
  },
  {
   "cell_type": "code",
   "execution_count": 40,
   "metadata": {
    "scrolled": true
   },
   "outputs": [
    {
     "data": {
      "image/png": "[encoded data removed]",
      "text/plain": [
       "<Figure size 540x720 with 12 Axes>"
      ]
     },
     "metadata": {
      "needs_background": "light"
     },
     "output_type": "display_data"
    }
   ],
   "source": [
    "# Initialize\n",
    "subplt = 0\n",
    "colors = [\"#1965B0\", \"#DC050C\"]\n",
    "labels = [\"CTCF-bound\", \"Unbound\"]\n",
    "# Final submission | Naturewww.nature.com › for authors\n",
    "# For guidance, Nature's standard figure sizes are 89 mm wide (single column) and 183 mm wide (double column).\n",
    "# The full depth of a Nature page is 247 mm.\n",
    "figsize = (7.20472, )\n",
    "fig, axes = plt.subplots(nrows=4, ncols=3, figsize=(7.5, 10))\n",
    "font_main = dict(size=12)\n",
    "font_title = dict(size=12, color=\"black\", weight=\"normal\", verticalalignment=\"bottom\")\n",
    "boxprops = dict(linewidth=1, color=\"black\")\n",
    "capprops = dict(linewidth=1, color=\"black\")\n",
    "flierprops = dict(marker=\"o\", markerfacecolor=\"black\", markersize=1, linestyle=\"none\")\n",
    "medianprops = dict(linewidth=1, color=\"black\")\n",
    "whiskerprops = dict(linestyle=\"-\", linewidth=1, color=\"black\")\n",
    "\n",
    "# Last ax is unnecessary\n",
    "axes[-1, -1].axis(\"off\")\n",
    "\n",
    "# For each sample\n",
    "for sample in sorted(dfs):\n",
    "\n",
    "    # Get current ax\n",
    "    data = []\n",
    "    subplt += 1\n",
    "    row = int((subplt-1) / 3)\n",
    "    col = (subplt-1) - (3 * row)\n",
    "    ax = axes[row, col]\n",
    "\n",
    "    # Get data\n",
    "    df = dfs[sample]\n",
    "    data.append(df[df.Labels == 1.].Scores.tolist())\n",
    "    data.append(df[df.Labels == 0.].Scores.tolist())\n",
    "    data = np.array(data, dtype=object)\n",
    "\n",
    "    # Boxplot\n",
    "    boxes = ax.boxplot(data, labels=labels, patch_artist=True, showfliers=False, boxprops=boxprops, capprops=capprops,\n",
    "        flierprops=None, medianprops=medianprops, whiskerprops=whiskerprops)\n",
    "\n",
    "    # Color boxes\n",
    "    for patch, color in zip(boxes[\"boxes\"], colors):\n",
    "        patch.set_facecolor(color)\n",
    "\n",
    "    # Set title\n",
    "    ax.set_title(sample, **font_title)\n",
    "    ax.title.set_position([.5, .975])\n",
    "\n",
    "    # Set y limit & ticks\n",
    "    ax.set(ylim=(0., 1.))\n",
    "    ax.set_yticks([0., .25, .5, .75, 1.])\n",
    "\n",
    "    # Set x/y tick labels\n",
    "    if subplt < 9:\n",
    "        ax.set_xticklabels([\"\", \"\"])\n",
    "    if col == 0:\n",
    "        ax.set_yticklabels([\"0\", \"\", \"0.5\", \"\", \"1\"])\n",
    "        ax.set_ylabel(\"DanQ\", **font_main)\n",
    "    else:\n",
    "        ax.set_yticklabels([\"\", \"\", \"\", \"\", \"\"])\n",
    "    ax.tick_params(direction=\"in\")\n",
    "    for tick in ax.xaxis.get_major_ticks():\n",
    "        tick.label.set_fontsize(10) \n",
    "    for tick in ax.yaxis.get_major_ticks():\n",
    "        tick.label.set_fontsize(10) \n",
    "\n",
    "    # Remove top & right spines\n",
    "    ax.spines[\"top\"].set_visible(False)\n",
    "    ax.spines[\"right\"].set_visible(False)\n",
    "\n",
    "    # Set aspect ratio\n",
    "    x0, x1 = ax.get_xlim()\n",
    "    y0, y1 = ax.get_ylim()\n",
    "    ax.set_aspect((x1 - x0) / (y1 - y0))"
   ]
  },
  {
   "cell_type": "code",
   "execution_count": 35,
   "metadata": {},
   "outputs": [
    {
     "name": "stdout",
     "output_type": "stream",
     "text": [
      "total positives for cerebellum is: 24718\n",
      "total negatives for cerebellum is: 320500\n",
      "total positives for forebrain is: 45456\n",
      "total negatives for forebrain is: 1320357\n",
      "total positives for heart is: 71510\n",
      "total negatives for heart is: 1145678\n",
      "total positives for hindbrain is: 50508\n",
      "total negatives for hindbrain is: 1248202\n",
      "total positives for intestine is: 35313\n",
      "total negatives for intestine is: 782567\n",
      "total positives for kidney is: 79074\n",
      "total negatives for kidney is: 688653\n",
      "total positives for liver is: 125073\n",
      "total negatives for liver is: 2472554\n",
      "total positives for lung is: 126933\n",
      "total negatives for lung is: 1010006\n",
      "total positives for midbrain is: 52927\n",
      "total negatives for midbrain is: 1604121\n",
      "total positives for stomach is: 37654\n",
      "total negatives for stomach is: 232830\n",
      "total positives for thymus is: 16315\n",
      "total negatives for thymus is: 452666\n"
     ]
    }
   ],
   "source": [
    "#######################################################\n",
    "# (*) Positive sequences are CTCF ChIP-seq regions in #\n",
    "#     which the peak max overlaps an open region      #\n",
    "# (*) Negative sequences are open regions that do not #\n",
    "#     overlap a CTCF ChIP-seq region                  #\n",
    "#######################################################\n",
    "\n",
    "# Initialize\n",
    "dfs = {}\n",
    "\n",
    "for sample in sorted(samples):\n",
    "\n",
    "    # Initialize\n",
    "    data = []\n",
    "    scores = []\n",
    "    labels = []\n",
    "\n",
    "    # Load positives\n",
    "    df = pd.read_csv(\"./CTCF-fwd/pos_seqs.%s.txt.gz\" % sample, compression=\"gzip\")\n",
    "    pos = df[[\"Fwd\", \"Rev\"]].max(axis=1)\n",
    "    print(\"total positives for %s is: %s\" % (sample, len(pos)))\n",
    "    scores.extend(pos.tolist())\n",
    "    labels.extend(np.ones(len(pos)).tolist())\n",
    "\n",
    "    # Load negatives\n",
    "    df = pd.read_csv(\"./CTCF-fwd/neg_seqs.%s.txt.gz\" % sample, compression=\"gzip\")\n",
    "    neg = df[[\"Fwd\", \"Rev\"]].max(axis=1)\n",
    "    print(\"total negatives for %s is: %s\" % (sample, len(neg)))\n",
    "    scores.extend(neg.tolist())\n",
    "    labels.extend(np.zeros(len(neg)).tolist())\n",
    "\n",
    "    # Create data frame\n",
    "    dfs.setdefault(sample, pd.DataFrame(zip(scores, labels), columns=[\"Scores\", \"Labels\"]))"
   ]
  },
  {
   "cell_type": "code",
   "execution_count": 36,
   "metadata": {},
   "outputs": [
    {
     "name": "stdout",
     "output_type": "stream",
     "text": [
      "          Scores  Labels\n",
      "0       0.999996     1.0\n",
      "1       0.999957     1.0\n",
      "2       0.995975     1.0\n",
      "3       0.984223     1.0\n",
      "4       0.999774     1.0\n",
      "...          ...     ...\n",
      "345213  0.003992     0.0\n",
      "345214  0.691188     0.0\n",
      "345215  0.344145     0.0\n",
      "345216  0.005406     0.0\n",
      "345217  0.002542     0.0\n",
      "\n",
      "[345218 rows x 2 columns]\n"
     ]
    }
   ],
   "source": [
    "# i.e. Sanity check\n",
    "print(dfs[\"cerebellum\"])"
   ]
  },
  {
   "cell_type": "code",
   "execution_count": 37,
   "metadata": {},
   "outputs": [
    {
     "data": {
      "image/png": "[encoded data removed]",
      "text/plain": [
       "<Figure size 540x720 with 12 Axes>"
      ]
     },
     "metadata": {
      "needs_background": "light"
     },
     "output_type": "display_data"
    }
   ],
   "source": [
    "# Initialize\n",
    "subplt = 0\n",
    "colors = [\"#1965B0\", \"#DC050C\"]\n",
    "labels = [\"CTCF-bound\", \"Unbound\"]\n",
    "# Final submission | Naturewww.nature.com › for authors\n",
    "# For guidance, Nature's standard figure sizes are 89 mm wide (single column) and 183 mm wide (double column).\n",
    "# The full depth of a Nature page is 247 mm.\n",
    "figsize = (7.20472, )\n",
    "fig, axes = plt.subplots(nrows=4, ncols=3, figsize=(7.5, 10))\n",
    "font_main = dict(size=12)\n",
    "font_title = dict(size=12, color=\"black\", weight=\"normal\", verticalalignment=\"bottom\")\n",
    "boxprops = dict(linewidth=1, color=\"black\")\n",
    "capprops = dict(linewidth=1, color=\"black\")\n",
    "flierprops = dict(marker=\"o\", markerfacecolor=\"black\", markersize=1, linestyle=\"none\")\n",
    "medianprops = dict(linewidth=1, color=\"black\")\n",
    "whiskerprops = dict(linestyle=\"-\", linewidth=1, color=\"black\")\n",
    "\n",
    "# Last ax is unnecessary\n",
    "axes[-1, -1].axis(\"off\")\n",
    "\n",
    "# For each sample\n",
    "for sample in sorted(dfs):\n",
    "\n",
    "    # Get current ax\n",
    "    data = []\n",
    "    subplt += 1\n",
    "    row = int((subplt-1) / 3)\n",
    "    col = (subplt-1) - (3 * row)\n",
    "    ax = axes[row, col]\n",
    "\n",
    "    # Get data\n",
    "    df = dfs[sample]\n",
    "    data.append(df[df.Labels == 1.].Scores.tolist())\n",
    "    data.append(df[df.Labels == 0.].Scores.tolist())\n",
    "    data = np.array(data, dtype=object)\n",
    "\n",
    "    # Boxplot\n",
    "    boxes = ax.boxplot(data, labels=labels, patch_artist=True, showfliers=False, boxprops=boxprops, capprops=capprops,\n",
    "        flierprops=None, medianprops=medianprops, whiskerprops=whiskerprops)\n",
    "\n",
    "    # Color boxes\n",
    "    for patch, color in zip(boxes[\"boxes\"], colors):\n",
    "        patch.set_facecolor(color)\n",
    "\n",
    "    # Set title\n",
    "    ax.set_title(sample, **font_title)\n",
    "    ax.title.set_position([.5, .975])\n",
    "\n",
    "    # Set y limit & ticks\n",
    "    ax.set(ylim=(0., 1.))\n",
    "    ax.set_yticks([0., .25, .5, .75, 1.])\n",
    "\n",
    "    # Set x/y tick labels\n",
    "    if subplt < 9:\n",
    "        ax.set_xticklabels([\"\", \"\"])\n",
    "    if col == 0:\n",
    "        ax.set_yticklabels([\"0\", \"\", \"0.5\", \"\", \"1\"])\n",
    "        ax.set_ylabel(\"DanQ\", **font_main)\n",
    "    else:\n",
    "        ax.set_yticklabels([\"\", \"\", \"\", \"\", \"\"])\n",
    "    ax.tick_params(direction=\"in\")\n",
    "    for tick in ax.xaxis.get_major_ticks():\n",
    "        tick.label.set_fontsize(10) \n",
    "    for tick in ax.yaxis.get_major_ticks():\n",
    "        tick.label.set_fontsize(10) \n",
    "\n",
    "    # Remove top & right spines\n",
    "    ax.spines[\"top\"].set_visible(False)\n",
    "    ax.spines[\"right\"].set_visible(False)\n",
    "\n",
    "    # Set aspect ratio\n",
    "    x0, x1 = ax.get_xlim()\n",
    "    y0, y1 = ax.get_ylim()\n",
    "    ax.set_aspect((x1 - x0) / (y1 - y0))"
   ]
  },
  {
   "cell_type": "code",
   "execution_count": null,
   "metadata": {},
   "outputs": [],
   "source": []
  }
 ],
 "metadata": {
  "kernelspec": {
   "display_name": "Python 3",
   "language": "python",
   "name": "python3"
  },
  "language_info": {
   "codemirror_mode": {
    "name": "ipython",
    "version": 3
   },
   "file_extension": ".py",
   "mimetype": "text/x-python",
   "name": "python",
   "nbconvert_exporter": "python",
   "pygments_lexer": "ipython3",
   "version": "3.8.5"
  }
 },
 "nbformat": 4,
 "nbformat_minor": 4
}
