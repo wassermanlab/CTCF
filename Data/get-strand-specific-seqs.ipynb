{
 "cells": [
  {
   "cell_type": "code",
   "execution_count": 21,
   "metadata": {},
   "outputs": [],
   "source": [
    "from Bio import SeqIO\n",
    "from Bio.SeqUtils import GC\n",
    "import gzip\n",
    "import numpy as np\n",
    "import pandas as pd\n",
    "import pickle\n",
    "import random\n",
    "import seaborn as sns"
   ]
  },
  {
   "cell_type": "code",
   "execution_count": 22,
   "metadata": {},
   "outputs": [
    {
     "name": "stdout",
     "output_type": "stream",
     "text": [
      "33728 33233\n"
     ]
    }
   ],
   "source": [
    "# Motif predictions\n",
    "predictions = {}\n",
    "\n",
    "for chunk in pd.read_csv(\n",
    "    \"./pos_seqs/MA0139.1.tsv.gz\", compression=\"gzip\", header=None,\n",
    "    encoding=\"utf8\", sep=\"\\t\", chunksize=1024, comment=\"#\",\n",
    "    engine=\"python\"\n",
    "):\n",
    "    for index, row in chunk.iterrows():\n",
    "        row = row.tolist()\n",
    "        predictions.setdefault(row[-1], set())\n",
    "        predictions[row[-1]].add(row[0])\n",
    "\n",
    "print(len(predictions[\"+\"]), len(predictions[\"-\"]))"
   ]
  },
  {
   "cell_type": "code",
   "execution_count": 26,
   "metadata": {},
   "outputs": [
    {
     "data": {
      "text/plain": [
       "136104"
      ]
     },
     "execution_count": 26,
     "metadata": {},
     "output_type": "execute_result"
    }
   ],
   "source": [
    "# FASTA sequences\n",
    "sequences = {}\n",
    "positive_sequences = {}\n",
    "negative_sequences = {}\n",
    "for i in range(101):\n",
    "    positive_sequences.setdefault(i, [])\n",
    "with gzip.open(\"./pos_seqs.fa.gz\", \"rt\") as f:\n",
    "    for seq_record in SeqIO.parse(f, \"fasta\"):\n",
    "        strands = 0\n",
    "        region = int(seq_record.id)\n",
    "        if region in predictions[\"+\"]:\n",
    "            strands += 1\n",
    "            sequence = str(seq_record.seq)\n",
    "        if region in predictions[\"-\"]:\n",
    "            strands += 1\n",
    "            sequence = str(seq_record.seq.reverse_complement())\n",
    "        if strands == 1:\n",
    "            positive_sequences[round(GC(sequence))].append(region)\n",
    "            sequences.setdefault(region, sequence)\n",
    "for i in range(101):\n",
    "    negative_sequences.setdefault(i, [])\n",
    "with gzip.open(\"./neg_seqs.fa.gz\", \"rt\") as f:\n",
    "    for seq_record in SeqIO.parse(f, \"fasta\"):\n",
    "        region = int(seq_record.id)\n",
    "        sequence = str(seq_record.seq)\n",
    "        negative_sequences[round(GC(sequence))].append(region)\n",
    "        sequences.setdefault(region, sequence)\n",
    "len(sequences)"
   ]
  },
  {
   "cell_type": "code",
   "execution_count": 27,
   "metadata": {},
   "outputs": [
    {
     "name": "stdout",
     "output_type": "stream",
     "text": [
      "57121 57121\n"
     ]
    }
   ],
   "source": [
    "# Downsampling\n",
    "sampled = {}\n",
    "random_seed = 123\n",
    "for i in range(101):\n",
    "    random.Random(random_seed).shuffle(positive_sequences[i])\n",
    "    random.Random(random_seed).shuffle(negative_sequences[i])\n",
    "    min_length = min(\n",
    "        [len(positive_sequences[i]), len(negative_sequences[i])]\n",
    "    )\n",
    "    for j in range(min_length):\n",
    "        sampled.setdefault(\"positives\", set())\n",
    "        sampled[\"positives\"].add(positive_sequences[i][j])\n",
    "        sampled.setdefault(\"negatives\", set())\n",
    "        sampled[\"negatives\"].add(negative_sequences[i][j])\n",
    "print(len(sampled[\"positives\"]), len(sampled[\"negatives\"]))"
   ]
  },
  {
   "cell_type": "code",
   "execution_count": 28,
   "metadata": {},
   "outputs": [],
   "source": [
    "# Save sequences\n",
    "with gzip.open(\"./pos_seqs.fwd.fa.gz\", \"wb\") as f:\n",
    "    for positive in sorted(sampled[\"positives\"]):\n",
    "        string = \">%s\\n%s\\n\" % (positive, sequences[positive])\n",
    "        f.write(string.encode(\"utf-8\"))\n",
    "with gzip.open(\"./neg_seqs.fwd.fa.gz\", \"wb\") as f:\n",
    "    for negative in sorted(sampled[\"negatives\"]):\n",
    "        string = \">%s\\n%s\\n\" % (negative, sequences[negative])\n",
    "        f.write(string.encode(\"utf-8\"))"
   ]
  },
  {
   "cell_type": "code",
   "execution_count": 30,
   "metadata": {},
   "outputs": [
    {
     "name": "stdout",
     "output_type": "stream",
     "text": [
      "57121 57121\n"
     ]
    }
   ],
   "source": [
    "# Sanity check\n",
    "gc_positives = []\n",
    "gc_negatives = []\n",
    "with gzip.open(\"./pos_seqs.fwd.fa.gz\", \"rt\") as f:\n",
    "    for seq_record in SeqIO.parse(f, \"fasta\"):\n",
    "        gc_positives.append(GC(str(seq_record.seq)))\n",
    "gc_positives = np.array(gc_positives)\n",
    "with gzip.open(\"./neg_seqs.fwd.fa.gz\", \"rt\") as f:\n",
    "    for seq_record in SeqIO.parse(f, \"fasta\"):\n",
    "        gc_negatives.append(GC(str(seq_record.seq)))\n",
    "gc_negatives = np.array(gc_negatives)\n",
    "print(len(gc_positives), len(gc_negatives))"
   ]
  },
  {
   "cell_type": "code",
   "execution_count": 31,
   "metadata": {},
   "outputs": [
    {
     "data": {
      "text/html": [
       "<div>\n",
       "<style scoped>\n",
       "    .dataframe tbody tr th:only-of-type {\n",
       "        vertical-align: middle;\n",
       "    }\n",
       "\n",
       "    .dataframe tbody tr th {\n",
       "        vertical-align: top;\n",
       "    }\n",
       "\n",
       "    .dataframe thead th {\n",
       "        text-align: right;\n",
       "    }\n",
       "</style>\n",
       "<table border=\"1\" class=\"dataframe\">\n",
       "  <thead>\n",
       "    <tr style=\"text-align: right;\">\n",
       "      <th></th>\n",
       "      <th>Sequence</th>\n",
       "      <th>%GC</th>\n",
       "    </tr>\n",
       "  </thead>\n",
       "  <tbody>\n",
       "    <tr>\n",
       "      <th>0</th>\n",
       "      <td>positives</td>\n",
       "      <td>57.0</td>\n",
       "    </tr>\n",
       "    <tr>\n",
       "      <th>1</th>\n",
       "      <td>positives</td>\n",
       "      <td>55.0</td>\n",
       "    </tr>\n",
       "    <tr>\n",
       "      <th>2</th>\n",
       "      <td>positives</td>\n",
       "      <td>64.0</td>\n",
       "    </tr>\n",
       "    <tr>\n",
       "      <th>3</th>\n",
       "      <td>positives</td>\n",
       "      <td>47.5</td>\n",
       "    </tr>\n",
       "    <tr>\n",
       "      <th>4</th>\n",
       "      <td>positives</td>\n",
       "      <td>75.0</td>\n",
       "    </tr>\n",
       "    <tr>\n",
       "      <th>...</th>\n",
       "      <td>...</td>\n",
       "      <td>...</td>\n",
       "    </tr>\n",
       "    <tr>\n",
       "      <th>114237</th>\n",
       "      <td>negatives</td>\n",
       "      <td>42.5</td>\n",
       "    </tr>\n",
       "    <tr>\n",
       "      <th>114238</th>\n",
       "      <td>negatives</td>\n",
       "      <td>48.5</td>\n",
       "    </tr>\n",
       "    <tr>\n",
       "      <th>114239</th>\n",
       "      <td>negatives</td>\n",
       "      <td>37.5</td>\n",
       "    </tr>\n",
       "    <tr>\n",
       "      <th>114240</th>\n",
       "      <td>negatives</td>\n",
       "      <td>50.0</td>\n",
       "    </tr>\n",
       "    <tr>\n",
       "      <th>114241</th>\n",
       "      <td>negatives</td>\n",
       "      <td>48.0</td>\n",
       "    </tr>\n",
       "  </tbody>\n",
       "</table>\n",
       "<p>114242 rows × 2 columns</p>\n",
       "</div>"
      ],
      "text/plain": [
       "         Sequence   %GC\n",
       "0       positives  57.0\n",
       "1       positives  55.0\n",
       "2       positives  64.0\n",
       "3       positives  47.5\n",
       "4       positives  75.0\n",
       "...           ...   ...\n",
       "114237  negatives  42.5\n",
       "114238  negatives  48.5\n",
       "114239  negatives  37.5\n",
       "114240  negatives  50.0\n",
       "114241  negatives  48.0\n",
       "\n",
       "[114242 rows x 2 columns]"
      ]
     },
     "execution_count": 31,
     "metadata": {},
     "output_type": "execute_result"
    }
   ],
   "source": [
    "# DataFrame\n",
    "data = []\n",
    "for i in gc_positives:\n",
    "    data.append([\"positives\", i])\n",
    "for i in gc_negatives:\n",
    "    data.append([\"negatives\", i])\n",
    "df = pd.DataFrame(data, columns=[\"Sequence\", \"%GC\"])\n",
    "df"
   ]
  },
  {
   "cell_type": "code",
   "execution_count": 32,
   "metadata": {},
   "outputs": [
    {
     "data": {
      "image/png": "[encoded data removed]",
      "text/plain": [
       "<Figure size 432x288 with 1 Axes>"
      ]
     },
     "metadata": {
      "needs_background": "light"
     },
     "output_type": "display_data"
    }
   ],
   "source": [
    "# Plot %GC distributions\n",
    "sns.set_context(\"paper\", font_scale=1.5, rc={\"lines.linewidth\": 1.5})\n",
    "sns.set_palette(sns.color_palette([\"#1965B0\", \"#DC050C\"]))\n",
    "g = sns.violinplot(x=\"Sequence\", y=\"%GC\", data=df)\n",
    "g.set(ylim=(0, 100))\n",
    "sns.despine()"
   ]
  },
  {
   "cell_type": "code",
   "execution_count": 33,
   "metadata": {},
   "outputs": [
    {
     "name": "stdout",
     "output_type": "stream",
     "text": [
      "71086 7772\n"
     ]
    }
   ],
   "source": [
    "# Another sanity check\n",
    "rs_positives = []\n",
    "rs_negatives = []\n",
    "for chunk in pd.read_csv(\n",
    "    \"./pos_seqs/MA0139.1.tsv.gz\", compression=\"gzip\", header=None,\n",
    "    encoding=\"utf8\", sep=\"\\t\", chunksize=1024, comment=\"#\",\n",
    "    engine=\"python\"\n",
    "):\n",
    "    for index, row in chunk.iterrows():\n",
    "        row = row.tolist()\n",
    "        rs_positives.append(row[4])\n",
    "for chunk in pd.read_csv(\n",
    "    \"./neg_seqs/MA0139.1.tsv.gz\", compression=\"gzip\", header=None,\n",
    "    encoding=\"utf8\", sep=\"\\t\", chunksize=1024, comment=\"#\",\n",
    "    engine=\"python\"\n",
    "):\n",
    "    for index, row in chunk.iterrows():\n",
    "        row = row.tolist()\n",
    "        rs_negatives.append(row[4])\n",
    "print(len(rs_positives), len(rs_negatives))"
   ]
  },
  {
   "cell_type": "code",
   "execution_count": 35,
   "metadata": {},
   "outputs": [
    {
     "data": {
      "text/html": [
       "<div>\n",
       "<style scoped>\n",
       "    .dataframe tbody tr th:only-of-type {\n",
       "        vertical-align: middle;\n",
       "    }\n",
       "\n",
       "    .dataframe tbody tr th {\n",
       "        vertical-align: top;\n",
       "    }\n",
       "\n",
       "    .dataframe thead th {\n",
       "        text-align: right;\n",
       "    }\n",
       "</style>\n",
       "<table border=\"1\" class=\"dataframe\">\n",
       "  <thead>\n",
       "    <tr style=\"text-align: right;\">\n",
       "      <th></th>\n",
       "      <th>Sequence</th>\n",
       "      <th>Score</th>\n",
       "    </tr>\n",
       "  </thead>\n",
       "  <tbody>\n",
       "    <tr>\n",
       "      <th>0</th>\n",
       "      <td>positives</td>\n",
       "      <td>0.921</td>\n",
       "    </tr>\n",
       "    <tr>\n",
       "      <th>1</th>\n",
       "      <td>positives</td>\n",
       "      <td>0.868</td>\n",
       "    </tr>\n",
       "    <tr>\n",
       "      <th>2</th>\n",
       "      <td>positives</td>\n",
       "      <td>0.831</td>\n",
       "    </tr>\n",
       "    <tr>\n",
       "      <th>3</th>\n",
       "      <td>positives</td>\n",
       "      <td>0.816</td>\n",
       "    </tr>\n",
       "    <tr>\n",
       "      <th>4</th>\n",
       "      <td>positives</td>\n",
       "      <td>0.876</td>\n",
       "    </tr>\n",
       "    <tr>\n",
       "      <th>...</th>\n",
       "      <td>...</td>\n",
       "      <td>...</td>\n",
       "    </tr>\n",
       "    <tr>\n",
       "      <th>78853</th>\n",
       "      <td>negatives</td>\n",
       "      <td>0.811</td>\n",
       "    </tr>\n",
       "    <tr>\n",
       "      <th>78854</th>\n",
       "      <td>negatives</td>\n",
       "      <td>0.810</td>\n",
       "    </tr>\n",
       "    <tr>\n",
       "      <th>78855</th>\n",
       "      <td>negatives</td>\n",
       "      <td>0.838</td>\n",
       "    </tr>\n",
       "    <tr>\n",
       "      <th>78856</th>\n",
       "      <td>negatives</td>\n",
       "      <td>0.843</td>\n",
       "    </tr>\n",
       "    <tr>\n",
       "      <th>78857</th>\n",
       "      <td>negatives</td>\n",
       "      <td>0.822</td>\n",
       "    </tr>\n",
       "  </tbody>\n",
       "</table>\n",
       "<p>78858 rows × 2 columns</p>\n",
       "</div>"
      ],
      "text/plain": [
       "        Sequence  Score\n",
       "0      positives  0.921\n",
       "1      positives  0.868\n",
       "2      positives  0.831\n",
       "3      positives  0.816\n",
       "4      positives  0.876\n",
       "...          ...    ...\n",
       "78853  negatives  0.811\n",
       "78854  negatives  0.810\n",
       "78855  negatives  0.838\n",
       "78856  negatives  0.843\n",
       "78857  negatives  0.822\n",
       "\n",
       "[78858 rows x 2 columns]"
      ]
     },
     "execution_count": 35,
     "metadata": {},
     "output_type": "execute_result"
    }
   ],
   "source": [
    "# DataFrame\n",
    "data = []\n",
    "for i in rs_positives:\n",
    "    data.append([\"positives\", i / 1000.])\n",
    "for i in rs_negatives:\n",
    "    data.append([\"negatives\", i / 1000.])\n",
    "df = pd.DataFrame(data, columns=[\"Sequence\", \"Score\"])\n",
    "df"
   ]
  },
  {
   "cell_type": "code",
   "execution_count": 36,
   "metadata": {},
   "outputs": [
    {
     "data": {
      "image/png": "[encoded data removed]",
      "text/plain": [
       "<Figure size 432x288 with 1 Axes>"
      ]
     },
     "metadata": {
      "needs_background": "light"
     },
     "output_type": "display_data"
    }
   ],
   "source": [
    "# Plot %GC distributions\n",
    "sns.set_context(\"paper\", font_scale=1.5, rc={\"lines.linewidth\": 1.5})\n",
    "sns.set_palette(sns.color_palette([\"#1965B0\", \"#DC050C\"]))\n",
    "g = sns.violinplot(x=\"Sequence\", y=\"Score\", data=df)\n",
    "g.set(ylim=(0.8, 1.))\n",
    "sns.despine()"
   ]
  },
  {
   "cell_type": "code",
   "execution_count": null,
   "metadata": {},
   "outputs": [],
   "source": []
  }
 ],
 "metadata": {
  "kernelspec": {
   "display_name": "Python 3",
   "language": "python",
   "name": "python3"
  },
  "language_info": {
   "codemirror_mode": {
    "name": "ipython",
    "version": 3
   },
   "file_extension": ".py",
   "mimetype": "text/x-python",
   "name": "python",
   "nbconvert_exporter": "python",
   "pygments_lexer": "ipython3",
   "version": "3.8.5"
  }
 },
 "nbformat": 4,
 "nbformat_minor": 4
}
