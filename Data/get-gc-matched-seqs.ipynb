{
 "cells": [
  {
   "cell_type": "code",
   "execution_count": 1,
   "metadata": {},
   "outputs": [],
   "source": [
    "from Bio import SeqIO\n",
    "from Bio.SeqUtils import GC\n",
    "import gzip\n",
    "import numpy as np\n",
    "import pandas as pd\n",
    "import pickle\n",
    "import random\n",
    "import re\n",
    "import seaborn as sns"
   ]
  },
  {
   "cell_type": "code",
   "execution_count": 2,
   "metadata": {},
   "outputs": [
    {
     "data": {
      "text/plain": [
       "array([[nan,  0., nan, ..., nan, nan, nan],\n",
       "       [ 0.,  0., nan, ..., nan, nan, nan],\n",
       "       [nan, nan, nan, ..., nan, nan, nan],\n",
       "       ...,\n",
       "       [nan, nan, nan, ..., nan, nan, nan],\n",
       "       [nan, nan, nan, ..., nan, nan, nan],\n",
       "       [nan, nan, nan, ..., nan, nan, nan]])"
      ]
     },
     "execution_count": 2,
     "metadata": {},
     "output_type": "execute_result"
    }
   ],
   "source": [
    "# Matrix\n",
    "data = np.load(\"./matrix2d.ReMap+UniBind.sparse.npz\")\n",
    "for i in data.files:\n",
    "    matrix2d = data[i]\n",
    "matrix2d"
   ]
  },
  {
   "cell_type": "code",
   "execution_count": 3,
   "metadata": {},
   "outputs": [
    {
     "data": {
      "text/plain": [
       "chr1  10095     10295             0\n",
       "      16145     16345             1\n",
       "      56175     56375             2\n",
       "      90115     90315             3\n",
       "      96495     96695             4\n",
       "                             ...   \n",
       "chrY  56878155  56878355    1817913\n",
       "      56878675  56878875    1817914\n",
       "      56880415  56880615    1817915\n",
       "      56881535  56881735    1817916\n",
       "      56881775  56881975    1817917\n",
       "Length: 1817918, dtype: int64"
      ]
     },
     "execution_count": 3,
     "metadata": {},
     "output_type": "execute_result"
    }
   ],
   "source": [
    "# Regions\n",
    "with gzip.open(\"./regions_idx.pickle.gz\", \"rb\") as f:\n",
    "    regions_dict = pickle.load(f)\n",
    "regions_df = pd.Series(regions_dict).sort_values()\n",
    "regions_df"
   ]
  },
  {
   "cell_type": "code",
   "execution_count": 4,
   "metadata": {},
   "outputs": [
    {
     "data": {
      "text/plain": [
       "AHR         0\n",
       "AR          1\n",
       "ARID3A      2\n",
       "ARNT        3\n",
       "ATF1        4\n",
       "         ... \n",
       "ZNF143    158\n",
       "ZNF24     159\n",
       "ZNF263    160\n",
       "ZNF384    161\n",
       "ZNF740    162\n",
       "Length: 163, dtype: int64"
      ]
     },
     "execution_count": 4,
     "metadata": {},
     "output_type": "execute_result"
    }
   ],
   "source": [
    "# TFs\n",
    "with gzip.open(\"./tfs_idx.pickle.gz\", \"rb\") as f:\n",
    "    tfs_dict = pickle.load(f)\n",
    "tfs_df = pd.Series(tfs_dict).sort_values()\n",
    "tfs_df"
   ]
  },
  {
   "cell_type": "code",
   "execution_count": 5,
   "metadata": {},
   "outputs": [
    {
     "data": {
      "text/plain": [
       "0          0.0\n",
       "1          0.0\n",
       "2          0.0\n",
       "3          0.0\n",
       "4          0.0\n",
       "          ... \n",
       "1817912    0.0\n",
       "1817913    0.0\n",
       "1817914    0.0\n",
       "1817915    0.0\n",
       "1817916    0.0\n",
       "Length: 1656242, dtype: float64"
      ]
     },
     "execution_count": 5,
     "metadata": {},
     "output_type": "execute_result"
    }
   ],
   "source": [
    "# CTCF regions\n",
    "ctcf_regions = pd.Series(\n",
    "    matrix2d[:, tfs_df[\"CTCF\"]], index=regions_df.values\n",
    ").dropna()\n",
    "ctcf_regions"
   ]
  },
  {
   "cell_type": "code",
   "execution_count": 6,
   "metadata": {},
   "outputs": [
    {
     "data": {
      "text/plain": [
       "Int64Index([      7,      16,      22,      49,     107,     112,     124,\n",
       "                144,     175,     179,\n",
       "            ...\n",
       "            1817571, 1817618, 1817621, 1817700, 1817706, 1817711, 1817721,\n",
       "            1817723, 1817732, 1817832],\n",
       "           dtype='int64', length=78984)"
      ]
     },
     "execution_count": 6,
     "metadata": {},
     "output_type": "execute_result"
    }
   ],
   "source": [
    "# Positive regions\n",
    "positive_regions = ctcf_regions[ctcf_regions == 1].index\n",
    "positive_regions"
   ]
  },
  {
   "cell_type": "code",
   "execution_count": 7,
   "metadata": {},
   "outputs": [
    {
     "data": {
      "text/plain": [
       "Int64Index([      0,       1,       2,       3,       4,       5,       6,\n",
       "                  8,       9,      10,\n",
       "            ...\n",
       "            1817907, 1817908, 1817909, 1817910, 1817911, 1817912, 1817913,\n",
       "            1817914, 1817915, 1817916],\n",
       "           dtype='int64', length=1577258)"
      ]
     },
     "execution_count": 7,
     "metadata": {},
     "output_type": "execute_result"
    }
   ],
   "source": [
    "# Negative regions\n",
    "negative_regions = ctcf_regions[ctcf_regions == 0].index\n",
    "negative_regions"
   ]
  },
  {
   "cell_type": "code",
   "execution_count": 9,
   "metadata": {},
   "outputs": [
    {
     "data": {
      "text/plain": [
       "1656212"
      ]
     },
     "execution_count": 9,
     "metadata": {},
     "output_type": "execute_result"
    }
   ],
   "source": [
    "# FASTA sequences\n",
    "positive_sequences = {}\n",
    "for i in range(101):\n",
    "    positive_sequences.setdefault(i, [])\n",
    "negative_sequences = {}\n",
    "for i in range(101):\n",
    "    negative_sequences.setdefault(i, [])\n",
    "sequences = {}\n",
    "with gzip.open(\"./sequences.200bp.fa.gz\", \"rt\") as f:\n",
    "    for seq_record in SeqIO.parse(f, \"fasta\"):\n",
    "        region, coordinates = seq_record.id.split(\"::\")\n",
    "        region = int(region)\n",
    "        sequence = str(seq_record.seq)\n",
    "        if re.search(\"[^acgtACGT]\", sequence):\n",
    "            pass\n",
    "        elif region in positive_regions:\n",
    "            positive_sequences[round(GC(sequence))].append(region)\n",
    "            sequences.setdefault(region, sequence)\n",
    "        elif region in negative_regions:\n",
    "            negative_sequences[round(GC(sequence))].append(region)\n",
    "            sequences.setdefault(region, sequence)\n",
    "len(sequences)"
   ]
  },
  {
   "cell_type": "code",
   "execution_count": 12,
   "metadata": {},
   "outputs": [
    {
     "name": "stdout",
     "output_type": "stream",
     "text": [
      "78983 78983\n"
     ]
    }
   ],
   "source": [
    "# Downsampling\n",
    "sampled = {}\n",
    "random_seed = 123\n",
    "for i in range(101):\n",
    "    random.Random(random_seed).shuffle(positive_sequences[i])\n",
    "    random.Random(random_seed).shuffle(negative_sequences[i])\n",
    "    min_length = min(\n",
    "        [len(positive_sequences[i]), len(negative_sequences[i])]\n",
    "    )\n",
    "    for j in range(min_length):\n",
    "        sampled.setdefault(\"positives\", set())\n",
    "        sampled[\"positives\"].add(positive_sequences[i][j])\n",
    "        sampled.setdefault(\"negatives\", set())\n",
    "        sampled[\"negatives\"].add(negative_sequences[i][j])\n",
    "print(len(sampled[\"positives\"]), len(sampled[\"negatives\"]))"
   ]
  },
  {
   "cell_type": "code",
   "execution_count": 19,
   "metadata": {},
   "outputs": [],
   "source": [
    "# Save sequences\n",
    "with gzip.open(\"./pos_seqs.fa.gz\", \"wb\") as f:\n",
    "    for positive in sorted(sampled[\"positives\"]):\n",
    "        string = \">%s\\n%s\\n\" % (positive, sequences[positive])\n",
    "        f.write(string.encode(\"utf-8\"))\n",
    "with gzip.open(\"./neg_seqs.fa.gz\", \"wb\") as f:\n",
    "    for negative in sorted(sampled[\"negatives\"]):\n",
    "        string = \">%s\\n%s\\n\" % (negative, sequences[negative])\n",
    "        f.write(string.encode(\"utf-8\"))"
   ]
  },
  {
   "cell_type": "code",
   "execution_count": 20,
   "metadata": {},
   "outputs": [
    {
     "name": "stdout",
     "output_type": "stream",
     "text": [
      "78983 78983\n"
     ]
    }
   ],
   "source": [
    "# Sanity check\n",
    "gc_positives = []\n",
    "gc_negatives = []\n",
    "with gzip.open(\"./pos_seqs.fa.gz\", \"rt\") as f:\n",
    "    for seq_record in SeqIO.parse(f, \"fasta\"):\n",
    "        gc_positives.append(GC(str(seq_record.seq)))\n",
    "gc_positives = np.array(gc_positives)\n",
    "with gzip.open(\"./neg_seqs.fa.gz\", \"rt\") as f:\n",
    "    for seq_record in SeqIO.parse(f, \"fasta\"):\n",
    "        gc_negatives.append(GC(str(seq_record.seq)))\n",
    "gc_negatives = np.array(gc_negatives)\n",
    "print(len(gc_positives), len(gc_negatives))"
   ]
  },
  {
   "cell_type": "code",
   "execution_count": 21,
   "metadata": {},
   "outputs": [
    {
     "data": {
      "text/html": [
       "<div>\n",
       "<style scoped>\n",
       "    .dataframe tbody tr th:only-of-type {\n",
       "        vertical-align: middle;\n",
       "    }\n",
       "\n",
       "    .dataframe tbody tr th {\n",
       "        vertical-align: top;\n",
       "    }\n",
       "\n",
       "    .dataframe thead th {\n",
       "        text-align: right;\n",
       "    }\n",
       "</style>\n",
       "<table border=\"1\" class=\"dataframe\">\n",
       "  <thead>\n",
       "    <tr style=\"text-align: right;\">\n",
       "      <th></th>\n",
       "      <th>Sequence</th>\n",
       "      <th>%GC</th>\n",
       "    </tr>\n",
       "  </thead>\n",
       "  <tbody>\n",
       "    <tr>\n",
       "      <th>0</th>\n",
       "      <td>positives</td>\n",
       "      <td>57.0</td>\n",
       "    </tr>\n",
       "    <tr>\n",
       "      <th>1</th>\n",
       "      <td>positives</td>\n",
       "      <td>55.0</td>\n",
       "    </tr>\n",
       "    <tr>\n",
       "      <th>2</th>\n",
       "      <td>positives</td>\n",
       "      <td>53.0</td>\n",
       "    </tr>\n",
       "    <tr>\n",
       "      <th>3</th>\n",
       "      <td>positives</td>\n",
       "      <td>64.0</td>\n",
       "    </tr>\n",
       "    <tr>\n",
       "      <th>4</th>\n",
       "      <td>positives</td>\n",
       "      <td>47.5</td>\n",
       "    </tr>\n",
       "    <tr>\n",
       "      <th>...</th>\n",
       "      <td>...</td>\n",
       "      <td>...</td>\n",
       "    </tr>\n",
       "    <tr>\n",
       "      <th>157961</th>\n",
       "      <td>negatives</td>\n",
       "      <td>40.0</td>\n",
       "    </tr>\n",
       "    <tr>\n",
       "      <th>157962</th>\n",
       "      <td>negatives</td>\n",
       "      <td>48.0</td>\n",
       "    </tr>\n",
       "    <tr>\n",
       "      <th>157963</th>\n",
       "      <td>negatives</td>\n",
       "      <td>46.5</td>\n",
       "    </tr>\n",
       "    <tr>\n",
       "      <th>157964</th>\n",
       "      <td>negatives</td>\n",
       "      <td>38.5</td>\n",
       "    </tr>\n",
       "    <tr>\n",
       "      <th>157965</th>\n",
       "      <td>negatives</td>\n",
       "      <td>51.0</td>\n",
       "    </tr>\n",
       "  </tbody>\n",
       "</table>\n",
       "<p>157966 rows × 2 columns</p>\n",
       "</div>"
      ],
      "text/plain": [
       "         Sequence   %GC\n",
       "0       positives  57.0\n",
       "1       positives  55.0\n",
       "2       positives  53.0\n",
       "3       positives  64.0\n",
       "4       positives  47.5\n",
       "...           ...   ...\n",
       "157961  negatives  40.0\n",
       "157962  negatives  48.0\n",
       "157963  negatives  46.5\n",
       "157964  negatives  38.5\n",
       "157965  negatives  51.0\n",
       "\n",
       "[157966 rows x 2 columns]"
      ]
     },
     "execution_count": 21,
     "metadata": {},
     "output_type": "execute_result"
    }
   ],
   "source": [
    "# DataFrame\n",
    "data = []\n",
    "for i in gc_positives:\n",
    "    data.append([\"positives\", i])\n",
    "for i in gc_negatives:\n",
    "    data.append([\"negatives\", i])\n",
    "df = pd.DataFrame(data, columns=[\"Sequence\", \"%GC\"])\n",
    "df"
   ]
  },
  {
   "cell_type": "code",
   "execution_count": 22,
   "metadata": {},
   "outputs": [
    {
     "data": {
      "image/png": "[encoded data removed]",
      "text/plain": [
       "<Figure size 432x288 with 1 Axes>"
      ]
     },
     "metadata": {
      "needs_background": "light"
     },
     "output_type": "display_data"
    }
   ],
   "source": [
    "# Plot %GC distributions\n",
    "sns.set_context(\"paper\", font_scale=1.5, rc={\"lines.linewidth\": 1.5})\n",
    "sns.set_palette(sns.color_palette([\"#1965B0\", \"#DC050C\"]))\n",
    "g = sns.violinplot(x=\"Sequence\", y=\"%GC\", data=df)\n",
    "g.set(ylim=(0, 100))\n",
    "sns.despine()"
   ]
  }
 ],
 "metadata": {
  "kernelspec": {
   "display_name": "Python 3",
   "language": "python",
   "name": "python3"
  },
  "language_info": {
   "codemirror_mode": {
    "name": "ipython",
    "version": 3
   },
   "file_extension": ".py",
   "mimetype": "text/x-python",
   "name": "python",
   "nbconvert_exporter": "python",
   "pygments_lexer": "ipython3",
   "version": "3.8.5"
  }
 },
 "nbformat": 4,
 "nbformat_minor": 4
}
